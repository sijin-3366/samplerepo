{
 "cells": [
  {
   "cell_type": "code",
   "execution_count": null,
   "id": "8a3c7bad",
   "metadata": {},
   "outputs": [],
   "source": [
    "helloo\n",
    "i am sijin\n",
    "hekkoo"
   ]
  }
 ],
 "metadata": {
  "language_info": {
   "name": "python"
  }
 },
 "nbformat": 4,
 "nbformat_minor": 5
}jhikoiuiu
